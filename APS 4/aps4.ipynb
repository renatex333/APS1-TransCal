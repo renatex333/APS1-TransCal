{
 "cells": [
  {
   "cell_type": "markdown",
   "metadata": {},
   "source": [
    "# APS 4 - PROJETO DE SOFTWARE PARA ANÁLISE DE TRELIÇAS PLANAS"
   ]
  },
  {
   "cell_type": "code",
   "execution_count": 20,
   "metadata": {},
   "outputs": [],
   "source": [
    "from funcoesTermosol import geraSaida, importa, plota\n",
    "import numpy as np\n",
    "from math import sqrt \n"
   ]
  },
  {
   "cell_type": "code",
   "execution_count": 50,
   "metadata": {},
   "outputs": [
    {
     "name": "stdout",
     "output_type": "stream",
     "text": [
      "[None 0 None None 150.0 -100.0]\n",
      "\n",
      "\n",
      "[0 150.0 -100.0]\n"
     ]
    }
   ],
   "source": [
    "# numero de nos [nn]\n",
    "# matriz dos nos [N]\n",
    "# numero de membros [nm]\n",
    "# matriz de incidencia [Inc]\n",
    "# numero de cargas [nc]\n",
    "# vetor carregamento [F]\n",
    "# numero de restricoes [nr]\n",
    "# vetor de restricoes [R]\n",
    "\n",
    "\n",
    "matriz_um = np.array([[1, -1], [-1, 1]])\n",
    "\n",
    "\n",
    "class Node:\n",
    "    def __init__(self, x, y):\n",
    "        self.x = x\n",
    "        self.y = y\n",
    "\n",
    "        self.rx = None\n",
    "        self.ry = None\n",
    "\n",
    "\n",
    "class Elemento:\n",
    "    def __init__(self, no1, no2, E, A):\n",
    "        self.E = E\n",
    "        self.A = A\n",
    "        self.l = sqrt((no1.x - no2.x)**2 + (no1.y - no2.y)**2)\n",
    "        self.cos = (no2.x - no1.x)/self.l\n",
    "        self.sin = (no2.y - no1.y)/self.l\n",
    "        self.T = np.array([[self.cos, self.sin, 0, 0],\n",
    "                          [0, 0, self.cos, self.sin]])\n",
    "        self.T_transposta = np.transpose(self.T)\n",
    "\n",
    "        self.ke = np.dot(np.dot(self.T_transposta *\n",
    "                         (self.E*self.A/self.l), matriz_um), self.T)\n",
    "\n",
    "\n",
    "[nn, N, nm, Inc, nc, F, nr, R] = importa('entrada.xls')\n",
    "\n",
    "Px = F[4][0]\n",
    "Py = F[5][0]\n",
    "sigma_tracao = 1570e6\n",
    "sigma_compressao = sigma_tracao\n",
    "\n",
    "# criar um objeto Node para cada nó\n",
    "node1 = Node(N[0, 0], N[1, 0])\n",
    "node2 = Node(N[0, 1], N[1, 1])\n",
    "node3 = Node(N[0, 2], N[1, 2])\n",
    "# Node1 tem restrição em x\n",
    "# Node2 tem restrição em x e y\n",
    "\n",
    "Elemento12 = Elemento(node1, node2, Inc[0, 2], Inc[0, 3])\n",
    "Elemento23 = Elemento(node2, node3, Inc[1, 2], Inc[1, 3])\n",
    "Elemento31 = Elemento(node3, node1, Inc[2, 2], Inc[2, 3])\n",
    "\n",
    "# Create a global stiffness matrix superpositioning the local stiffness matrices\n",
    "K = np.zeros((2*nn, 2*nn))\n",
    "\n",
    "AUXS = np.array([[1, 2, 3, 4], [3, 4, 5, 6], [5, 6, 1, 2]])\n",
    "ELEMENTOS = [Elemento12, Elemento23, Elemento31]\n",
    "for aux, elemento in zip(AUXS,ELEMENTOS):\n",
    "    for i in range(len(aux)):\n",
    "        for j in range(len(aux)):\n",
    "            K[aux[i]-1, aux[j]-1] += elemento.ke[i, j]\n",
    "\n",
    "# Vetor global de forças concentradas (Aula 25 -> Slide 22)\n",
    "PG = np.array([node1.rx, 0, node2.rx, node2.ry, Px, Py], dtype=object)\n",
    "\n",
    "# Aplicando condição de contorno (Aula 25 -> Slide 23)\n",
    "# Removendo linhas e colunas que correspondem aos graus de liberdade das reações dos nós (1, 3, 4)\n",
    "# Documentação para o np.delete: https://note.nkmk.me/en/python-numpy-delete/#:~:text=Using%20the%20NumPy%20function%20np,from%20the%20NumPy%20array%20ndarray%20.&text=Specify%20the%20axis%20(dimension)%20and,a%20slice%20or%20a%20list.\n",
    "K_CC = np.delete(np.delete(K, [0,2,3], 0), [0,2,3], 1)\n",
    "PG_CC = np.delete(PG, [0,2,3], 0)\n",
    "\n",
    "# Calcular os deslocamentos nodais (Aula 25 -> Slide 24)\n",
    "\n",
    "# Calcular reações de apoio (Aula 25 -> Slide 25)\n",
    "\n",
    "# Calcular deformação e tensão em cada elemento (Aula 25 -> Slide 8)\n",
    "\n",
    "\n",
    "\n"
   ]
  },
  {
   "cell_type": "code",
   "execution_count": null,
   "metadata": {},
   "outputs": [],
   "source": []
  }
 ],
 "metadata": {
  "kernelspec": {
   "display_name": "Python 3.10.7 64-bit",
   "language": "python",
   "name": "python3"
  },
  "language_info": {
   "codemirror_mode": {
    "name": "ipython",
    "version": 3
   },
   "file_extension": ".py",
   "mimetype": "text/x-python",
   "name": "python",
   "nbconvert_exporter": "python",
   "pygments_lexer": "ipython3",
   "version": "3.10.7"
  },
  "orig_nbformat": 4,
  "vscode": {
   "interpreter": {
    "hash": "0f4aad36e1a7834f44c14e84b98527cfbefef55e7a336cfec74130d804d73c8f"
   }
  }
 },
 "nbformat": 4,
 "nbformat_minor": 2
}

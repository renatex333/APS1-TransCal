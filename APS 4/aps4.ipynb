{
 "cells": [
  {
   "cell_type": "markdown",
   "metadata": {},
   "source": [
    "# APS 4 - PROJETO DE SOFTWARE PARA ANÁLISE DE TRELIÇAS PLANAS"
   ]
  },
  {
   "cell_type": "code",
   "execution_count": 1,
   "metadata": {},
   "outputs": [],
   "source": [
    "from funcoesTermosol import geraSaida, importa, plota\n",
    "import numpy as np\n",
    "from math import sqrt \n"
   ]
  },
  {
   "cell_type": "code",
   "execution_count": 18,
   "metadata": {},
   "outputs": [
    {
     "name": "stdout",
     "output_type": "stream",
     "text": [
      "[[ 0.00e+00  0.00e+00  0.00e+00  0.00e+00  0.00e+00  0.00e+00]\n",
      " [ 0.00e+00  1.05e+08  0.00e+00 -1.05e+08  0.00e+00  0.00e+00]\n",
      " [ 0.00e+00  0.00e+00  0.00e+00  0.00e+00  0.00e+00  0.00e+00]\n",
      " [ 0.00e+00 -1.05e+08  0.00e+00  1.05e+08  0.00e+00  0.00e+00]\n",
      " [ 0.00e+00  0.00e+00  0.00e+00  0.00e+00  0.00e+00  0.00e+00]\n",
      " [ 0.00e+00  0.00e+00  0.00e+00  0.00e+00  0.00e+00  0.00e+00]]\n"
     ]
    }
   ],
   "source": [
    "# numero de nos [nn]\n",
    "# matriz dos nos [N]\n",
    "# numero de membros [nm]\n",
    "# matriz de incidencia [Inc]\n",
    "# numero de cargas [nc]\n",
    "# vetor carregamento [F]\n",
    "# numero de restricoes [nr]\n",
    "# vetor de restricoes [R]\n",
    "\n",
    "\n",
    "matriz_um = np.array([[1, -1], [-1, 1]])\n",
    "\n",
    "\n",
    "class Node:\n",
    "    def __init__(self, x, y):\n",
    "        self.x = x\n",
    "        self.y = y\n",
    "\n",
    "\n",
    "class Elemento:\n",
    "    def __init__(self, no1, no2, E, A):\n",
    "        self.E = E\n",
    "        self.A = A\n",
    "        self.l = sqrt((no1.x - no2.x)**2 + (no1.y - no2.y)**2)\n",
    "        self.cos = (no2.x - no1.x)/self.l\n",
    "        self.sin = (no2.y - no1.y)/self.l\n",
    "        self.T = np.array([[self.cos, self.sin, 0, 0],\n",
    "                          [0, 0, self.cos, self.sin]])\n",
    "        self.T_transposta = np.transpose(self.T)\n",
    "\n",
    "        self.ke = np.dot(np.dot(self.T_transposta *\n",
    "                         (self.E*self.A/self.l), matriz_um), self.T)\n",
    "\n",
    "\n",
    "[nn, N, nm, Inc, nc, F, nr, R] = importa('entrada.xls')\n",
    "A = 2e-4\n",
    "E = 210e9\n",
    "Py = -100\n",
    "Px = 150\n",
    "sigma_tracao = 1570e6\n",
    "sigma_compressao = sigma_tracao\n",
    "\n",
    "# criar um objeto Node para cada no\n",
    "node1 = Node(N[0, 0], N[1, 0])\n",
    "node2 = Node(N[0, 1], N[1, 1])\n",
    "node3 = Node(N[0, 2], N[1, 2])\n",
    "\n",
    "Elemento12 = Elemento(node1, node2, Inc[0, 2], Inc[0, 3])\n",
    "Elemento23 = Elemento(node2, node3, Inc[1, 2], Inc[1, 3])\n",
    "Elemento31 = Elemento(node3, node1, Inc[2, 2], Inc[2, 3])\n",
    "\n",
    "\n",
    "\n",
    "rigidez1 = Elemento12.ke\n",
    "rigidez2 = Elemento23.ke\n",
    "rigidez3 = Elemento31.ke\n",
    "\n",
    "# Create a global stiffness matrix superpositioning the local stiffness matrices\n",
    "K = np.zeros((2*nn, 2*nn))\n",
    "K[0:4, 0:4] += rigidez1\n",
    "# K[3:6, 3:6] += rigidez2\n",
    "# K[5:6, 5:6] += rigidez3\n",
    "# K[1:2, 1:2] += rigidez3\n",
    "\n",
    "print(K)\n",
    "\n",
    "\n",
    "\n",
    "\n",
    "\n",
    "\n",
    "\n",
    "\n",
    "\n",
    "# matriz de rigidez de um elemento\n",
    "# [Ke] = E*A/l * [T]\n",
    "# [T] = [[cos  0 ]  * [[1  -1]   *   [[cos  sen  0    0 ]\n",
    "#        [sen  0 ]     [-1  1]]       [ 0    0  cos  sen]]\n",
    "#        [ 0  cos]\n",
    "#        [ 0  sen]]\n",
    "\n",
    "# cos = (x2 - x1)/L\n",
    "# sen = (y2 - y1)/L\n",
    "# L = sqrt( (x2 - x1)**2  +  (y2 - y1)**2 )\n",
    "\n",
    "# dx =\n",
    "# dy =\n",
    "\n",
    "# L = sqrt()\n",
    "\n",
    "\n",
    "a = np.array([[1, 2], [3, 4]])\n"
   ]
  },
  {
   "cell_type": "code",
   "execution_count": null,
   "metadata": {},
   "outputs": [],
   "source": []
  }
 ],
 "metadata": {
  "kernelspec": {
   "display_name": "Python 3.10.7 64-bit",
   "language": "python",
   "name": "python3"
  },
  "language_info": {
   "codemirror_mode": {
    "name": "ipython",
    "version": 3
   },
   "file_extension": ".py",
   "mimetype": "text/x-python",
   "name": "python",
   "nbconvert_exporter": "python",
   "pygments_lexer": "ipython3",
   "version": "3.10.7"
  },
  "orig_nbformat": 4,
  "vscode": {
   "interpreter": {
    "hash": "0f4aad36e1a7834f44c14e84b98527cfbefef55e7a336cfec74130d804d73c8f"
   }
  }
 },
 "nbformat": 4,
 "nbformat_minor": 2
}

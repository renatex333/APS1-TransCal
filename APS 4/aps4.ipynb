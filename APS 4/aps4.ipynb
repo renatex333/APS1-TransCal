{
 "cells": [
  {
   "cell_type": "markdown",
   "metadata": {},
   "source": [
    "# APS 4 - PROJETO DE SOFTWARE PARA ANÁLISE DE TRELIÇAS PLANAS"
   ]
  },
  {
   "cell_type": "code",
   "execution_count": 24,
   "metadata": {},
   "outputs": [],
   "source": [
    "from funcoesTermosol import geraSaida, importa, plota\n",
    "import numpy as np\n",
    "from math import sqrt \n"
   ]
  },
  {
   "cell_type": "code",
   "execution_count": 25,
   "metadata": {},
   "outputs": [
    {
     "ename": "XLRDError",
     "evalue": "Excel xlsx file; not supported",
     "output_type": "error",
     "traceback": [
      "\u001b[1;31m---------------------------------------------------------------------------\u001b[0m",
      "\u001b[1;31mXLRDError\u001b[0m                                 Traceback (most recent call last)",
      "Cell \u001b[1;32mIn [25], line 9\u001b[0m\n\u001b[0;32m      1\u001b[0m \u001b[39m# numero de nos [nn]\u001b[39;00m\n\u001b[0;32m      2\u001b[0m \u001b[39m# matriz dos nos [N]\u001b[39;00m\n\u001b[0;32m      3\u001b[0m \u001b[39m# numero de membros [nm]\u001b[39;00m\n\u001b[1;32m   (...)\u001b[0m\n\u001b[0;32m      7\u001b[0m \u001b[39m# numero de restricoes [nr]\u001b[39;00m\n\u001b[0;32m      8\u001b[0m \u001b[39m# vetor de restricoes [R]\u001b[39;00m\n\u001b[1;32m----> 9\u001b[0m [nn,N,nm,Inc,nc,F,nr,R] \u001b[39m=\u001b[39m importa(\u001b[39m'\u001b[39;49m\u001b[39mentrada.xlsx\u001b[39;49m\u001b[39m'\u001b[39;49m)\n\u001b[0;32m     11\u001b[0m \u001b[39m# matriz de rigidez de um elemento\u001b[39;00m\n\u001b[0;32m     12\u001b[0m \u001b[39m# [Ke] = E*A/l * [T]\u001b[39;00m\n\u001b[0;32m     13\u001b[0m \u001b[39m# [T] = [[cos  0 ]  * [[1  -1]   *   [[cos  sen  0    0 ]\u001b[39;00m\n\u001b[1;32m   (...)\u001b[0m\n\u001b[0;32m     24\u001b[0m \n\u001b[0;32m     25\u001b[0m \u001b[39m# L = sqrt()\u001b[39;00m\n\u001b[0;32m     28\u001b[0m a \u001b[39m=\u001b[39m np\u001b[39m.\u001b[39marray([[\u001b[39m1\u001b[39m, \u001b[39m2\u001b[39m], [\u001b[39m3\u001b[39m, \u001b[39m4\u001b[39m]])\n",
      "File \u001b[1;32mc:\\Users\\renat\\OneDrive\\Área de Trabalho\\5 SEMESTRE\\TRANSMEC\\Atividades\\APSs-TransCal\\APS 4\\funcoesTermosol.py:62\u001b[0m, in \u001b[0;36mimporta\u001b[1;34m(entradaNome)\u001b[0m\n\u001b[0;32m     59\u001b[0m \u001b[39mimport\u001b[39;00m \u001b[39mnumpy\u001b[39;00m \u001b[39mas\u001b[39;00m \u001b[39mnp\u001b[39;00m\n\u001b[0;32m     60\u001b[0m \u001b[39mimport\u001b[39;00m \u001b[39mxlrd\u001b[39;00m\n\u001b[1;32m---> 62\u001b[0m arquivo \u001b[39m=\u001b[39m xlrd\u001b[39m.\u001b[39;49mopen_workbook(entradaNome)\n\u001b[0;32m     64\u001b[0m \u001b[39m################################################## Ler os nos\u001b[39;00m\n\u001b[0;32m     65\u001b[0m nos \u001b[39m=\u001b[39m arquivo\u001b[39m.\u001b[39msheet_by_name(\u001b[39m'\u001b[39m\u001b[39mNos\u001b[39m\u001b[39m'\u001b[39m)\n",
      "File \u001b[1;32m~\\AppData\\Local\\Packages\\PythonSoftwareFoundation.Python.3.10_qbz5n2kfra8p0\\LocalCache\\local-packages\\Python310\\site-packages\\xlrd\\__init__.py:170\u001b[0m, in \u001b[0;36mopen_workbook\u001b[1;34m(filename, logfile, verbosity, use_mmap, file_contents, encoding_override, formatting_info, on_demand, ragged_rows, ignore_workbook_corruption)\u001b[0m\n\u001b[0;32m    167\u001b[0m \u001b[39m# We have to let unknown file formats pass through here, as some ancient\u001b[39;00m\n\u001b[0;32m    168\u001b[0m \u001b[39m# files that xlrd can parse don't start with the expected signature.\u001b[39;00m\n\u001b[0;32m    169\u001b[0m \u001b[39mif\u001b[39;00m file_format \u001b[39mand\u001b[39;00m file_format \u001b[39m!=\u001b[39m \u001b[39m'\u001b[39m\u001b[39mxls\u001b[39m\u001b[39m'\u001b[39m:\n\u001b[1;32m--> 170\u001b[0m     \u001b[39mraise\u001b[39;00m XLRDError(FILE_FORMAT_DESCRIPTIONS[file_format]\u001b[39m+\u001b[39m\u001b[39m'\u001b[39m\u001b[39m; not supported\u001b[39m\u001b[39m'\u001b[39m)\n\u001b[0;32m    172\u001b[0m bk \u001b[39m=\u001b[39m open_workbook_xls(\n\u001b[0;32m    173\u001b[0m     filename\u001b[39m=\u001b[39mfilename,\n\u001b[0;32m    174\u001b[0m     logfile\u001b[39m=\u001b[39mlogfile,\n\u001b[1;32m   (...)\u001b[0m\n\u001b[0;32m    182\u001b[0m     ignore_workbook_corruption\u001b[39m=\u001b[39mignore_workbook_corruption,\n\u001b[0;32m    183\u001b[0m )\n\u001b[0;32m    185\u001b[0m \u001b[39mreturn\u001b[39;00m bk\n",
      "\u001b[1;31mXLRDError\u001b[0m: Excel xlsx file; not supported"
     ]
    }
   ],
   "source": [
    "# numero de nos [nn]\n",
    "# matriz dos nos [N]\n",
    "# numero de membros [nm]\n",
    "# matriz de incidencia [Inc]\n",
    "# numero de cargas [nc]\n",
    "# vetor carregamento [F]\n",
    "# numero de restricoes [nr]\n",
    "# vetor de restricoes [R]\n",
    "[nn,N,nm,Inc,nc,F,nr,R] = importa('entrada.xlsx')\n",
    "\n",
    "# matriz de rigidez de um elemento\n",
    "# [Ke] = E*A/l * [T]\n",
    "# [T] = [[cos  0 ]  * [[1  -1]   *   [[cos  sen  0    0 ]\n",
    "#        [sen  0 ]     [-1  1]]       [ 0    0  cos  sen]]\n",
    "#        [ 0  cos]\n",
    "#        [ 0  sen]]\n",
    "\n",
    "# cos = (x2 - x1)/L \n",
    "# sen = (y2 - y1)/L\n",
    "# L = sqrt( (x2 - x1)**2  +  (y2 - y1)**2 )  \n",
    "\n",
    "# dx = \n",
    "# dy = \n",
    "\n",
    "# L = sqrt()\n",
    "\n",
    "\n",
    "a = np.array([[1, 2], [3, 4]])\n",
    "a"
   ]
  }
 ],
 "metadata": {
  "kernelspec": {
   "display_name": "Python 3.10.8 64-bit (microsoft store)",
   "language": "python",
   "name": "python3"
  },
  "language_info": {
   "codemirror_mode": {
    "name": "ipython",
    "version": 3
   },
   "file_extension": ".py",
   "mimetype": "text/x-python",
   "name": "python",
   "nbconvert_exporter": "python",
   "pygments_lexer": "ipython3",
   "version": "3.10.8"
  },
  "orig_nbformat": 4,
  "vscode": {
   "interpreter": {
    "hash": "9ca3a3f76260332a83825220c60efd53c66ee74005a62660f23900a504079fe0"
   }
  }
 },
 "nbformat": 4,
 "nbformat_minor": 2
}

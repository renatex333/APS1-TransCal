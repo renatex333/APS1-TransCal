{
 "cells": [
  {
   "cell_type": "markdown",
   "metadata": {},
   "source": [
    "# APS 4 - PROJETO DE SOFTWARE PARA ANÁLISE DE TRELIÇAS PLANAS"
   ]
  },
  {
   "cell_type": "code",
   "execution_count": 12,
   "metadata": {},
   "outputs": [],
   "source": [
    "from funcoesTermosol import geraSaida, importa, plota\n",
    "import numpy as np\n",
    "from math import sqrt \n",
    "\n",
    "# Variáveis globais\n",
    "matriz_um = np.array([[1, -1], [-1, 1]])"
   ]
  },
  {
   "cell_type": "code",
   "execution_count": 13,
   "metadata": {},
   "outputs": [],
   "source": [
    "def gauss_seidel(A, b, tolerance, x):\n",
    "    #x is the initial condition\n",
    "    iter1 = 0\n",
    "  \n",
    "    while(True):\n",
    "        iter1 = iter1 + 1\n",
    "     \n",
    "        x_old  = x.copy()\n",
    "        \n",
    "    \n",
    "        for i in range(A.shape[0]):\n",
    "            x[i] = (b[i] - np.dot(A[i,:i], x[:i]) - np.dot(A[i,(i+1):], x_old[(i+1):])) / A[i ,i]\n",
    "            \n",
    "        \n",
    "        LnormInf = max(abs((x - x_old)))/max(abs(x_old))   \n",
    "        if  LnormInf < tolerance:\n",
    "            print (\"A solução do sistema na iteração\", iter1, \"é:\", x)\n",
    "            break\n",
    "    \n",
    "           \n",
    "    return x"
   ]
  },
  {
   "cell_type": "code",
   "execution_count": 14,
   "metadata": {},
   "outputs": [
    {
     "name": "stdout",
     "output_type": "stream",
     "text": [
      "[0 2 3]\n",
      "A solução do sistema na iteração 23 é: [-9.52380952e-07  1.60714286e-06 -4.01785714e-06]\n"
     ]
    },
    {
     "name": "stderr",
     "output_type": "stream",
     "text": [
      "C:\\Users\\renat\\AppData\\Local\\Temp\\ipykernel_5580\\1552097990.py:15: RuntimeWarning: divide by zero encountered in double_scalars\n",
      "  LnormInf = max(abs((x - x_old)))/max(abs(x_old))\n"
     ]
    }
   ],
   "source": [
    "# numero de nos [nn]\n",
    "# matriz dos nos [N]\n",
    "# numero de membros [nm]\n",
    "# matriz de incidencia [Inc]\n",
    "# numero de cargas [nc]\n",
    "# vetor carregamento [F]\n",
    "# numero de restricoes [nr]\n",
    "# vetor de restricoes [R]\n",
    "\n",
    "\n",
    "class Node:\n",
    "    def __init__(self, x, y, gl):\n",
    "        self.x = x\n",
    "        self.y = y\n",
    "        self.gl = gl\n",
    "\n",
    "        self.rx = None\n",
    "        self.ry = None\n",
    "\n",
    "\n",
    "class Elemento:\n",
    "    def __init__(self, no1, no2, E, A):\n",
    "        self.E = E\n",
    "        self.A = A\n",
    "        self.l = sqrt((no1.x - no2.x)**2 + (no1.y - no2.y)**2)\n",
    "        self.cos = (no2.x - no1.x)/self.l\n",
    "        self.sin = (no2.y - no1.y)/self.l\n",
    "        self.T = np.array([[self.cos, self.sin, 0, 0],\n",
    "                          [0, 0, self.cos, self.sin]])\n",
    "        self.T_transposta = np.transpose(self.T)\n",
    "\n",
    "        self.ke = np.dot(np.dot(self.T_transposta *\n",
    "                         (self.E*self.A/self.l), matriz_um), self.T)\n",
    "\n",
    "        self.gls = np.concatenate((no1.gl, no2.gl))\n",
    "\n",
    "\n",
    "[nn, N, nm, Inc, nc, F, nr, R] = importa('entrada.xls')\n",
    "\n",
    "sigma_tracao = 1570e6\n",
    "sigma_compressao = sigma_tracao\n",
    "\n",
    "gdl_global = []\n",
    "# Criar um objeto Node para cada nó\n",
    "NODES = []\n",
    "for n in range(nn):\n",
    "    gdl = [((n+1)*2)-1, (n+1)*2]\n",
    "    gdl_global = np.concatenate((gdl_global, gdl))\n",
    "    new_node = Node(N[0, n], N[1, n], gdl)\n",
    "    NODES.append(new_node)\n",
    "\n",
    "# Node1 tem restrição em x\n",
    "# Node2 tem restrição em x e y\n",
    "\n",
    "# Criar um objeto Elemento para cada membro\n",
    "ELEMENTOS = []\n",
    "for m in range(nm):\n",
    "    new_element = Elemento(NODES[int(Inc[m, 0])-1], NODES[int(Inc[m, 1])-1], float(Inc[m, 2]), float(Inc[m, 3]))\n",
    "    ELEMENTOS.append(new_element)\n",
    "\n",
    "# Cria matriz de rigidez para superposição das matrizes de rigidez dos elementos\n",
    "K = np.zeros((2*nn, 2*nn))\n",
    "\n",
    "AUXS = [e.gls for e in ELEMENTOS]\n",
    "for aux, elemento in zip(AUXS,ELEMENTOS):\n",
    "    for i in range(len(aux)):\n",
    "        for j in range(len(aux)):\n",
    "            K[aux[i]-1, aux[j]-1] += elemento.ke[i, j]\n",
    "\n",
    "# Vetor global de forças concentradas (Aula 25 -> Slide 22)\n",
    "PG = F\n",
    "\n",
    "# Aplicando condição de contorno (Aula 25 -> Slide 23)\n",
    "# Removendo linhas e colunas que correspondem aos graus de liberdade das reações dos nós\n",
    "# Documentação para o np.delete: https://note.nkmk.me/en/python-numpy-delete/#:~:text=Using%20the%20NumPy%20function%20np,from%20the%20NumPy%20array%20ndarray%20.&text=Specify%20the%20axis%20(dimension)%20and,a%20slice%20or%20a%20list.\n",
    "R = R.astype(int).flatten()\n",
    "print(R)\n",
    "K_CC = np.delete(np.delete(K, R, 0), R, 1)\n",
    "PG_CC = np.delete(PG, R, 0)\n",
    "\n",
    "# Calcular os deslocamentos nodais (Aula 25 -> Slide 24)\n",
    "\n",
    "deslocamentos = gauss_seidel(K_CC, PG_CC, 1e-10, np.zeros(len(PG_CC)))\n",
    "\n",
    "# Calcular reações de apoio (Aula 25 -> Slide 25)\n",
    "\n",
    "\n",
    "\n",
    "# Calcular deformação e tensão em cada elemento (Aula 25 -> Slide 8)\n",
    "\n",
    "# Calcular as forças internas -> Tensão do elemento = Força/Área\n"
   ]
  },
  {
   "cell_type": "code",
   "execution_count": null,
   "metadata": {},
   "outputs": [],
   "source": []
  }
 ],
 "metadata": {
  "kernelspec": {
   "display_name": "Python 3.10.8 64-bit (microsoft store)",
   "language": "python",
   "name": "python3"
  },
  "language_info": {
   "codemirror_mode": {
    "name": "ipython",
    "version": 3
   },
   "file_extension": ".py",
   "mimetype": "text/x-python",
   "name": "python",
   "nbconvert_exporter": "python",
   "pygments_lexer": "ipython3",
   "version": "3.10.8"
  },
  "orig_nbformat": 4,
  "vscode": {
   "interpreter": {
    "hash": "9ca3a3f76260332a83825220c60efd53c66ee74005a62660f23900a504079fe0"
   }
  }
 },
 "nbformat": 4,
 "nbformat_minor": 2
}

{
 "cells": [
  {
   "cell_type": "code",
   "execution_count": null,
   "metadata": {},
   "outputs": [],
   "source": [
    "from math import cosh, sinh, sqrt, tanh\n",
    "import matplotlib as mpl\n",
    "import matplotlib.pyplot as plt\n",
    "import numpy as np"
   ]
  },
  {
   "cell_type": "code",
   "execution_count": null,
   "metadata": {},
   "outputs": [],
   "source": [
    "# T_Kelvin = T_Celsius + 273.15\n",
    "\n",
    "# Parâmetros para o nosso grupo: Seção transversal retangular\n",
    "L = 0.175 # Comprimento da aleta em m\n",
    "t = 0.02 # Espessura da aleta\n",
    "w = 0.24 # Largura da aleta\n",
    "P = 0.52 # Perímetro da seção transversal em m\n",
    "A = 0.0048 # Área da seção transversal em m^2\n",
    "h = 20 # Coeficiente de convecção em W/ m^2 * K\n",
    "As = (2 * L * t) + (w * t) + (2 * L * w) # Área da superfície\n",
    "Ab = (w * t) # Área da base\n",
    "\n",
    "# Parâmetros gerais\n",
    "k_Al = 240 # Condutividade do material em W/m*K\n",
    "T = 25 + 273.15 # T_infinito é a temepratura do ambiente em K\n",
    "Tb = 100 + 273.15 # Tb é a temperatura da base em K\n",
    "x = L # Condição de contorno na extremidade da aleta\n"
   ]
  },
  {
   "cell_type": "markdown",
   "metadata": {},
   "source": [
    "# Exercício I\n",
    "# 1. Calcular a temperatura na extremidade da aleta e plotar gráfico da \n",
    "# distribuição de temperatura ao longo da aleta."
   ]
  },
  {
   "cell_type": "code",
   "execution_count": null,
   "metadata": {},
   "outputs": [],
   "source": [
    "# Temperatura na extremidade da aleta (T_L)\n",
    "\n",
    "# Função que calcula a distribuição de temperaturas para transferência de calor por convecção\n",
    "def calcula_distribuicao_de_temperaturas(h, P, k, A, L, x):\n",
    "\n",
    "    m = sqrt((h*P)/(k*A))\n",
    "\n",
    "    const = h / (m * k)\n",
    "\n",
    "    numerador = cosh(m * (L - x)) + const * sinh(m * (L - x))\n",
    "    denominador = cosh(m * L) + const * sinh(m * L)\n",
    "\n",
    "    distribuicao_de_temperaturas = numerador / denominador\n",
    "\n",
    "    return distribuicao_de_temperaturas\n",
    "\n",
    "distribuicao_de_temperaturas = calcula_distribuicao_de_temperaturas(h, P, k_Al, A, L, x)\n",
    "\n",
    "T_L = (distribuicao_de_temperaturas * (Tb - T)) + T\n",
    "\n",
    "print(f\"Temperatura na extremidade da aleta: {T_L} K\")\n",
    "\n",
    "# Gráfico da distribuição de temperaturas ao longo do comprimento da aleta\n",
    "\n",
    "lista_distr_temps = []\n",
    "lista_x_aleta = np.arange(0, L+0.001, 0.001)\n",
    "\n",
    "for x in lista_x_aleta:\n",
    "    distr_temp_x = calcula_distribuicao_de_temperaturas(h, P, k_Al, A, L, x)\n",
    "    lista_distr_temps.append(distr_temp_x)\n",
    "\n",
    "fig, ax = plt.subplots()\n",
    "ax.plot(lista_x_aleta, lista_distr_temps, color=\"red\")\n",
    "ax.set(xlabel='Comprimento da aleta (m)', ylabel='Distribuição de temperatura',\n",
    "       title='Distribuição de temperatura ao longo da aleta')\n",
    "plt.grid()\n",
    "fig.savefig(\"Atividades\\APS 1\\Distribuição_de_temperatura.png\")\n",
    "# plt.show()\n"
   ]
  },
  {
   "cell_type": "markdown",
   "metadata": {},
   "source": [
    "# 2. Taxa de transferência de calor"
   ]
  },
  {
   "cell_type": "code",
   "execution_count": null,
   "metadata": {},
   "outputs": [],
   "source": [
    "# Função que calcula a distribuição de temperaturas para transferência de calor por convecção\n",
    "def calcula_transferencia_de_calor(h, P, k, A, L, x, T, Tb):\n",
    "    thetab = Tb - T\n",
    "    M = sqrt(h*P*k*A) * thetab\n",
    "    m = sqrt((h*P)/(k*A))\n",
    "\n",
    "    const = h / (m * k)\n",
    "\n",
    "    numerador = sinh(m * L) + const * cosh(m * L)\n",
    "    denominador = cosh(m * L) + const * sinh(m * L)\n",
    "\n",
    "    taxa_de_transferencia_de_calor = M * (numerador / denominador)\n",
    "\n",
    "    return taxa_de_transferencia_de_calor\n",
    "\n",
    "taxa_de_transferencia_de_calor = calcula_transferencia_de_calor(h, P, k_Al, A, L, x, T, Tb)\n",
    "\n",
    "print(f\"Taxa de transferência de calor: {taxa_de_transferencia_de_calor} W\")\n"
   ]
  },
  {
   "cell_type": "markdown",
   "metadata": {},
   "source": [
    "# 3. Eficiência da aleta"
   ]
  },
  {
   "cell_type": "code",
   "execution_count": null,
   "metadata": {},
   "outputs": [],
   "source": [
    "thetab = Tb - T\n",
    "eficiencia = taxa_de_transferencia_de_calor/(h * As * thetab)\n",
    "\n",
    "print(f\"Eficiênica da aleta: {eficiencia}\")\n"
   ]
  },
  {
   "cell_type": "markdown",
   "metadata": {},
   "source": [
    "# 4. Efetividade da aleta"
   ]
  },
  {
   "cell_type": "code",
   "execution_count": null,
   "metadata": {},
   "outputs": [],
   "source": [
    "efetividade = taxa_de_transferencia_de_calor/(h * Ab * thetab)\n",
    "\n",
    "print(f\"Efetividade: {efetividade}\")"
   ]
  },
  {
   "cell_type": "markdown",
   "metadata": {},
   "source": [
    "# 5. Taxa de transferência de calor para aleta infinita"
   ]
  },
  {
   "cell_type": "code",
   "execution_count": null,
   "metadata": {},
   "outputs": [],
   "source": [
    "taxa_de_transferencia_de_calor_aleta_infinita = sqrt(h*P*k_Al*A) * thetab\n",
    "\n",
    "print(f\"Taxa de transferência de calor para aleta infinita: {taxa_de_transferencia_de_calor_aleta_infinita} W\")\n"
   ]
  },
  {
   "cell_type": "markdown",
   "metadata": {},
   "source": [
    "# 6. Comparando modelo de aleta finita e aleta infinita"
   ]
  },
  {
   "cell_type": "code",
   "execution_count": null,
   "metadata": {},
   "outputs": [],
   "source": [
    "print(\"Numericamente é diferente, porque ...\")"
   ]
  },
  {
   "cell_type": "markdown",
   "metadata": {},
   "source": [
    "# 7. Descobrir o comprimento mínimo para que a hipótese de aleta infinita forneça uma medida precisa para\n",
    "# a taxa de transferência de calor\n",
    "\n",
    "# Se thetab = 0, Tb = Tamb, e portanto, podemos considerar uma condição adiabática na extremidade\n",
    "# M ~ M*tanh(m * L)\n",
    "# tanh(m * L) >= 0.99"
   ]
  },
  {
   "cell_type": "code",
   "execution_count": null,
   "metadata": {},
   "outputs": [],
   "source": [
    "m = sqrt((h*P)/(k_Al*A))\n",
    "\n",
    "L_minimo = L\n",
    "\n",
    "while(tanh(m * L_minimo) < 0.99):\n",
    "    L_minimo += 0.001\n",
    "\n",
    "print(f\"O comprimento mínimo da aleta: {L_minimo:.3f} m\")"
   ]
  },
  {
   "cell_type": "markdown",
   "metadata": {},
   "source": [
    "# Exercício II"
   ]
  }
 ],
 "metadata": {
  "kernelspec": {
   "display_name": "Python 3.10.6 64-bit (microsoft store)",
   "language": "python",
   "name": "python3"
  },
  "language_info": {
   "name": "python",
   "version": "3.10.6"
  },
  "orig_nbformat": 4,
  "vscode": {
   "interpreter": {
    "hash": "9ca3a3f76260332a83825220c60efd53c66ee74005a62660f23900a504079fe0"
   }
  }
 },
 "nbformat": 4,
 "nbformat_minor": 2
}

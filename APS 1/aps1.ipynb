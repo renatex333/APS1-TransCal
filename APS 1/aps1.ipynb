{
 "cells": [
  {
   "cell_type": "markdown",
   "metadata": {},
   "source": [
    "# Imports e definição de constantes"
   ]
  },
  {
   "cell_type": "code",
   "execution_count": 5,
   "metadata": {},
   "outputs": [],
   "source": [
    "from math import cosh, sinh, sqrt, tanh, log\n",
    "import matplotlib as mpl\n",
    "import matplotlib.pyplot as plt\n",
    "import numpy as np"
   ]
  },
  {
   "cell_type": "code",
   "execution_count": 6,
   "metadata": {},
   "outputs": [],
   "source": [
    "# T_Kelvin = T_Celsius + 273.15\n",
    "\n",
    "# Parâmetros para o nosso grupo: Seção transversal retangular\n",
    "\n",
    "L = 0.175                                   # Comprimento da aleta em m\n",
    "t = 0.02                                    # Espessura da aleta\n",
    "w = 0.24                                    # Largura da aleta\n",
    "P = 0.52                                    # Perímetro da seção transversal em m\n",
    "A = 0.0048                                  # Área da seção transversal em m^2\n",
    "h = 20                                      # Coeficiente de convecção em W/ m^2 * K\n",
    "As = (2 * L * t) + (w * t) + (2 * L * w)    # Área da superfície\n",
    "Ab = (w * t)                                # Área da base\n",
    "\n",
    "# Parâmetros gerais\n",
    "\n",
    "k_Al = 240                                  # Condutividade do material em W/m*K\n",
    "T = 25 + 273.15                             # T_infinito é a temepratura do ambiente em K\n",
    "Tb = 100 + 273.15                           # Tb é a temperatura da base em K\n",
    "x = L                                       # Condição de contorno na extremidade da aleta\n"
   ]
  },
  {
   "cell_type": "markdown",
   "metadata": {},
   "source": [
    "# Exercício I"
   ]
  },
  {
   "cell_type": "markdown",
   "metadata": {},
   "source": [
    "## 1.1 Calcular a temperatura na extremidade da aleta e plotar gráfico da distribuição de temperatura ao longo da aleta."
   ]
  },
  {
   "cell_type": "code",
   "execution_count": 7,
   "metadata": {},
   "outputs": [
    {
     "name": "stdout",
     "output_type": "stream",
     "text": [
      "Temperatura na extremidade da aleta: 362.9886788022675 K\n"
     ]
    },
    {
     "data": {
      "image/png": "[encoded data removed]",
      "text/plain": [
       "<Figure size 432x288 with 1 Axes>"
      ]
     },
     "metadata": {
      "needs_background": "light"
     },
     "output_type": "display_data"
    }
   ],
   "source": [
    "# Temperatura na extremidade da aleta -> (T_L)\n",
    "\n",
    "\n",
    "def calcula_distribuicao_de_temperaturas(h, P, k, A, L, x):\n",
    "    \"\"\"\n",
    "    Função que calcula a distribuição de temperaturas para transferência de calor por convecção\n",
    "    \"\"\"\n",
    "\n",
    "    m = sqrt((h*P)/(k*A))\n",
    "\n",
    "    const = h / (m * k)\n",
    "\n",
    "    numerador = cosh(m * (L - x)) + const * sinh(m * (L - x))\n",
    "    denominador = cosh(m * L) + const * sinh(m * L)\n",
    "\n",
    "    distribuicao_de_temperaturas = numerador / denominador\n",
    "\n",
    "    return distribuicao_de_temperaturas\n",
    "\n",
    "\n",
    "distribuicao_de_temperaturas = calcula_distribuicao_de_temperaturas(\n",
    "    h, P, k_Al, A, L, x)\n",
    "\n",
    "T_L = (distribuicao_de_temperaturas * (Tb - T)) + T\n",
    "\n",
    "print(f\"Temperatura na extremidade da aleta: {T_L} K\")\n",
    "\n",
    "# Gráfico da distribuição de temperaturas ao longo do comprimento da aleta\n",
    "\n",
    "lista_distr_temps = []\n",
    "lista_x_aleta = np.arange(0, L+0.001, 0.001)\n",
    "\n",
    "for x in lista_x_aleta:\n",
    "    distr_temp_x = calcula_distribuicao_de_temperaturas(h, P, k_Al, A, L, x)\n",
    "    lista_distr_temps.append(distr_temp_x)\n",
    "\n",
    "fig, ax = plt.subplots()\n",
    "ax.plot(lista_x_aleta, lista_distr_temps, color=\"red\")\n",
    "ax.set(xlabel='Comprimento da aleta (m)', ylabel='Distribuição de temperatura',\n",
    "       title='Distribuição de temperatura ao longo da aleta')\n",
    "plt.grid()\n",
    "plt.show()\n"
   ]
  },
  {
   "cell_type": "markdown",
   "metadata": {},
   "source": [
    "## 1.2 Taxa de transferência de calor"
   ]
  },
  {
   "cell_type": "code",
   "execution_count": 15,
   "metadata": {},
   "outputs": [
    {
     "name": "stdout",
     "output_type": "stream",
     "text": [
      "Taxa de transferência de calor: 130.62469590479256 W\n"
     ]
    }
   ],
   "source": [
    "\n",
    "def calcula_transferencia_de_calor(h, P, k, A, L, x, T, Tb):\n",
    "    \"\"\"\n",
    "    Função que calcula a distribuição de temperaturas para transferência de calor por convecção\n",
    "    \"\"\"\n",
    "    thetab = Tb - T\n",
    "    M = sqrt(h*P*k*A) * thetab\n",
    "    m = sqrt((h*P)/(k*A))\n",
    "\n",
    "    const = h / (m * k)\n",
    "\n",
    "    numerador = sinh(m * L) + const * cosh(m * L)\n",
    "    denominador = cosh(m * L) + const * sinh(m * L)\n",
    "\n",
    "    taxa_de_transferencia_de_calor = M * (numerador / denominador)\n",
    "\n",
    "    return taxa_de_transferencia_de_calor\n",
    "\n",
    "taxa_de_transferencia_de_calor = calcula_transferencia_de_calor(h, P, k_Al, A, L, x, T, Tb)\n",
    "\n",
    "print(f\"Taxa de transferência de calor: {taxa_de_transferencia_de_calor} W\")\n"
   ]
  },
  {
   "cell_type": "markdown",
   "metadata": {},
   "source": [
    "## 1.3 Eficiência da aleta"
   ]
  },
  {
   "cell_type": "code",
   "execution_count": 16,
   "metadata": {},
   "outputs": [
    {
     "name": "stdout",
     "output_type": "stream",
     "text": [
      "Eficiênica da aleta: 0.9090097140208251\n"
     ]
    }
   ],
   "source": [
    "thetab = Tb - T\n",
    "eficiencia = taxa_de_transferencia_de_calor/(h * As * thetab)\n",
    "\n",
    "print(f\"Eficiênica da aleta: {eficiencia}\")\n"
   ]
  },
  {
   "cell_type": "markdown",
   "metadata": {},
   "source": [
    "## 1.4 Efetividade da aleta"
   ]
  },
  {
   "cell_type": "code",
   "execution_count": 10,
   "metadata": {},
   "outputs": [
    {
     "name": "stdout",
     "output_type": "stream",
     "text": [
      "Efetividade: 18.142318875665634\n"
     ]
    }
   ],
   "source": [
    "efetividade = taxa_de_transferencia_de_calor/(h * Ab * thetab)\n",
    "\n",
    "print(f\"Efetividade: {efetividade}\")"
   ]
  },
  {
   "cell_type": "markdown",
   "metadata": {},
   "source": [
    "## 1.5 Taxa de transferência de calor para aleta infinita"
   ]
  },
  {
   "cell_type": "code",
   "execution_count": 17,
   "metadata": {},
   "outputs": [
    {
     "name": "stdout",
     "output_type": "stream",
     "text": [
      "Taxa de transferência de calor para aleta infinita: 259.59969183340723 W\n"
     ]
    }
   ],
   "source": [
    "taxa_de_transferencia_de_calor_aleta_infinita = sqrt(h*P*k_Al*A) * thetab\n",
    "\n",
    "print(f\"Taxa de transferência de calor para aleta infinita: {taxa_de_transferencia_de_calor_aleta_infinita} W\")\n"
   ]
  },
  {
   "cell_type": "markdown",
   "metadata": {},
   "source": [
    "## 1.6 Comparando modelo de aleta finita e aleta infinita"
   ]
  },
  {
   "cell_type": "code",
   "execution_count": 22,
   "metadata": {},
   "outputs": [
    {
     "name": "stdout",
     "output_type": "stream",
     "text": [
      "Numericamente são diferentes, enquanto a taxa de transferência de calor da aleta adibática é 130.62\n",
      " a da aleta infinita é 259.60 \n",
      "\n",
      "Isso ocorre pois tanh da expressão da taxa de transferência de calor não tende 1, quando tal fenômeno ocorreria\n"
     ]
    }
   ],
   "source": [
    "\n",
    "print(\"Numericamente são diferentes, enquanto a taxa de transferência de calor da aleta adibática é {:.2f}\\n a da aleta infinita é {:.2f} \\n\".format(\n",
    "    taxa_de_transferencia_de_calor, taxa_de_transferencia_de_calor_aleta_infinita))\n",
    "print(\"Isso ocorre pois tanh da expressão da taxa de transferência de calor não tende 1, quando tal fenômeno ocorreria\")\n"
   ]
  },
  {
   "cell_type": "markdown",
   "metadata": {},
   "source": [
    "## 1.7 Descobrir o comprimento mínimo para que a hipótese de aleta infinita forneça uma medida precisa para a taxa de transferência de calor\n",
    "\n",
    "Se $\\theta_B = 0$, $T_b = T_{amb}$ , e portanto, podemos considerar uma condição adiabática na extremidade se $M \\approx M \\cdot \\tanh(m \\cdot L)$\n",
    "e, portanto, $\\tanh(m \\cdot L) \\geq 0.99$\n"
   ]
  },
  {
   "cell_type": "code",
   "execution_count": 23,
   "metadata": {},
   "outputs": [
    {
     "name": "stdout",
     "output_type": "stream",
     "text": [
      "O comprimento mínimo da aleta: 0.881 m\n"
     ]
    }
   ],
   "source": [
    "m = sqrt((h*P)/(k_Al*A))\n",
    "\n",
    "L_minimo = L\n",
    "\n",
    "while(tanh(m * L_minimo) < 0.99):\n",
    "    L_minimo += 0.001\n",
    "\n",
    "print(f\"O comprimento mínimo da aleta: {L_minimo:.3f} m\")"
   ]
  },
  {
   "cell_type": "markdown",
   "metadata": {},
   "source": [
    "# Exercício II"
   ]
  },
  {
   "cell_type": "markdown",
   "metadata": {},
   "source": [
    "a) Considere válida a condição de aleta infinita e desenvolva um modelo matemático que\n",
    "permita ao usuário do dispositivo determinar a condutividade do material desconhecido. Lembre-se\n",
    "que 𝑚ଶ = ℎ𝑃/𝑘𝐴௧௥. \n",
    "\n",
    "\n",
    "Temos que $m=\\sqrt{\\frac{h\\cdot P}{K_b\\cdot A_{tr}}}$.\n",
    "Considerando a condição de aleta infinita e distribuição de temperaturas (a mesma nas duas), pode-se concluir que:\n",
    "$$e^{-m\\cdot x} = \\frac{\\theta}{\\theta_b}$$\n",
    "Aplicando $\\ln$ em ambos os lados da equação, temos:\n",
    "$$-m\\cdot x = \\log{\\frac{\\theta}{\\theta_b}}$$\n",
    "Substituindo o valor de `m`:\n",
    "$$-\\sqrt{\\frac{h\\cdot P}{K_b\\cdot A_{tr}}}\\cdot x = \\log{\\frac{\\theta}{\\theta_b}}$$\n",
    "$$\\frac{h\\cdot P}{K_b\\cdot A_{tr}} = (\\frac{\\log{\\frac{\\theta}{\\theta_b}}}{x})^2$$\n",
    "Chegamos então à equação algébrica de $K_b$:\n",
    "$$K_b = \\frac{h\\cdot P}{((\\frac{\\log{\\frac{\\theta}{\\theta_b}}}{x})^2)\\cdot A_{tr}}$$\n"
   ]
  },
  {
   "cell_type": "markdown",
   "metadata": {},
   "source": [
    "b) Se o material-padrão for o alumínio, com $k_A = 240 \\ W/(m^2 \\cdot K) $ e as medições\n",
    "revelarem valores de $T_A = 75^\\circ C$ e $T_B = 60^\\circ C$ em $x_1$, para $T_b = 100^\\circ C$ e $T_{\\infty} = 25^\\circ C$, qual é a\n",
    "condutividade térmica 𝜅஻ do material em teste? "
   ]
  },
  {
   "cell_type": "code",
   "execution_count": 14,
   "metadata": {},
   "outputs": [],
   "source": [
    "ka = 240        # Condutividade do material em W/m*K\n",
    "ta = 75         # Temperatura da aleta A em graus Celsius\n",
    "tb = 60         # Temperatura da aleta B em graus Celsius\n",
    "tB = 100        # Temperatura da base em graus Celsius\n",
    "t_amb = 25      # Temperatura do ambiente em graus Celsius\n",
    "\n",
    "K = ka*(log((ta-t_amb)/(tB-t_amb)))**2\n",
    "kb = K * 1/(log((tb-t_amb)/(tB-t_amb)))**2\n"
   ]
  }
 ],
 "metadata": {
  "kernelspec": {
   "display_name": "Python 3.10.4 64-bit",
   "language": "python",
   "name": "python3"
  },
  "language_info": {
   "codemirror_mode": {
    "name": "ipython",
    "version": 3
   },
   "file_extension": ".py",
   "mimetype": "text/x-python",
   "name": "python",
   "nbconvert_exporter": "python",
   "pygments_lexer": "ipython3",
   "version": "3.10.4"
  },
  "orig_nbformat": 4,
  "vscode": {
   "interpreter": {
    "hash": "0f4aad36e1a7834f44c14e84b98527cfbefef55e7a336cfec74130d804d73c8f"
   }
  }
 },
 "nbformat": 4,
 "nbformat_minor": 2
}

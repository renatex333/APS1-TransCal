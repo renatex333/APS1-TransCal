{
 "cells": [
  {
   "cell_type": "markdown",
   "metadata": {},
   "source": [
    "# APS 2"
   ]
  },
  {
   "cell_type": "markdown",
   "metadata": {},
   "source": [
    "## Imports"
   ]
  },
  {
   "cell_type": "code",
   "execution_count": 2,
   "metadata": {},
   "outputs": [],
   "source": [
    "from math import cosh, sinh, sqrt, tanh, log, pi\n",
    "import matplotlib as mpl\n",
    "import matplotlib.pyplot as plt\n",
    "import numpy as np"
   ]
  },
  {
   "cell_type": "markdown",
   "metadata": {},
   "source": [
    "## Declarações"
   ]
  },
  {
   "cell_type": "code",
   "execution_count": 5,
   "metadata": {},
   "outputs": [
    {
     "data": {
      "text/plain": [
       "4.948363636363635"
      ]
     },
     "execution_count": 5,
     "metadata": {},
     "output_type": "execute_result"
    }
   ],
   "source": [
    "\n",
    "rho_mat = 2700                            # Densidade do material em kg/m³\n",
    "c_mat = 896                               # Calor especícico do material em J/(kg.K)\n",
    "k_mat = 180                               # Condutividade térmica do material em W/(m.K)\n",
    "h_amb = 50                                # Coeficiente de transf. por convecção do ambiente em W/(m².K)\n",
    "t_fluido = 50                             # Temperatura do fluido em ºC\n",
    "t_base = 100                              # Temperatura da base do dissipador em ºC\n",
    "t_extremidade = 25                        # Temperatura da extremidade do dissipador em ºC\n",
    "raio =  5e-3/2                            # Raio do dissipador\n",
    "comprimento = 0.3                         # Comprimento do dissipador em m\n",
    "p = 2*pi*raio                             # Perímetro do dissipador\n",
    "a = pi*raio**2                            # Área da secção transversal do dissipador\n",
    "alpha = k_mat/(rho_mat*c_mat)             # Difusividade térmica do material em m²/s\n",
    "\n",
    "\n",
    "\n",
    "dx =  0.03                                # delta x\n",
    "dt =  0.01                                # delta t\n",
    "\n",
    "max_dt = ((dx**2)/(alpha*(((h_amb*p*dx**2)/(k_mat*a))+2)))*(0.9) # Cálculo do delta t máximo\n",
    "tol = 1e-10                               # Tolerância para o erro\n",
    "t_total = 10                              # Tempo total de simulação\n",
    "max_dt"
   ]
  },
  {
   "cell_type": "markdown",
   "metadata": {},
   "source": [
    "$\\frac{d^2T}{dx^2} - \\frac{hP}{K \\cdot A_{tr}} \\cdot (T-T_{\\infty}) = \\frac{1}{\\alpha}\\cdot \\frac{dT}{dt}$\n",
    "\n",
    "Substituindo a derivada segunda $\\frac{d^2T}{dx^2}$ pela equação de diferenças finitas centrada e a derivada primeira $\\frac{dT}{dt}$ pela equação de diferença progressiva, temos:\n",
    "\n",
    "$\\frac{T_{m+1} - 2T_m + T_{m-1}}{\\Delta x^2} - \\frac{hP}{K \\cdot A_{tr}} \\cdot (T-T_{\\infty}) = \\frac{1}{\\alpha}\\cdot \\frac{T_m ^{\\ l+1} - T_m ^{\\ l}}{\\Delta t}$\n",
    "\n",
    "Deixando em função de $T_m ^{\\ l+1}$, temos:\n",
    "\n",
    "$T_m ^{\\ l+1} = \\left( \\frac{\\alpha \\cdot \\Delta t}{\\Delta x^{\\ 2}}\\right) \\cdot \\left(  T_{m+1} -2T_m + T_{m-1}    \\right) - \\left(  \\frac{h \\cdot P \\cdot \\alpha \\cdot \\Delta t}{k \\cdot A_{tr}}  \\right) \\cdot \\left( T - T_{\\infty} \\right)  +  T_m ^l$\n"
   ]
  },
  {
   "cell_type": "code",
   "execution_count": 6,
   "metadata": {},
   "outputs": [
    {
     "ename": "SyntaxError",
     "evalue": "invalid syntax (1803088307.py, line 7)",
     "output_type": "error",
     "traceback": [
      "\u001b[1;36m  Input \u001b[1;32mIn [6]\u001b[1;36m\u001b[0m\n\u001b[1;33m    t_analitica =\u001b[0m\n\u001b[1;37m                  ^\u001b[0m\n\u001b[1;31mSyntaxError\u001b[0m\u001b[1;31m:\u001b[0m invalid syntax\n"
     ]
    }
   ],
   "source": [
    "def sol_analitica(temperaturas):\n",
    "    \"\"\"\n",
    "    Permite prever a solução analítica do problema.\n",
    "    \"\"\"\n",
    "    novas_temperaturas = []\n",
    "    for t in temperaturas:\n",
    "        t_analitica = \n",
    "    "
   ]
  }
 ],
 "metadata": {
  "kernelspec": {
   "display_name": "Python 3.10.4 64-bit",
   "language": "python",
   "name": "python3"
  },
  "language_info": {
   "codemirror_mode": {
    "name": "ipython",
    "version": 3
   },
   "file_extension": ".py",
   "mimetype": "text/x-python",
   "name": "python",
   "nbconvert_exporter": "python",
   "pygments_lexer": "ipython3",
   "version": "3.10.4"
  },
  "orig_nbformat": 4,
  "vscode": {
   "interpreter": {
    "hash": "0f4aad36e1a7834f44c14e84b98527cfbefef55e7a336cfec74130d804d73c8f"
   }
  }
 },
 "nbformat": 4,
 "nbformat_minor": 2
}
